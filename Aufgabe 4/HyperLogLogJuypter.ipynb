{
 "cells": [
  {
   "cell_type": "code",
   "execution_count": 1,
   "metadata": {},
   "outputs": [
    {
     "name": "stderr",
     "output_type": "stream",
     "text": [
      "/Users/furkan/miniconda3/envs/AI/lib/python3.11/site-packages/seaborn/_oldcore.py:1498: FutureWarning: is_categorical_dtype is deprecated and will be removed in a future version. Use isinstance(dtype, CategoricalDtype) instead\n",
      "  if pd.api.types.is_categorical_dtype(vector):\n"
     ]
    },
    {
     "data": {
      "image/png": "[encoded data removed]",
      "text/plain": [
       "<Figure size 640x480 with 1 Axes>"
      ]
     },
     "metadata": {},
     "output_type": "display_data"
    },
    {
     "name": "stdout",
     "output_type": "stream",
     "text": [
      "Geschätzte Anzahl: 1010682\n",
      "Tatsächliche Anzahl: 1000000\n",
      "Fehler in Prozent: 1.0682%\n"
     ]
    }
   ],
   "source": [
    "import hashlib\n",
    "import random\n",
    "import string\n",
    "import numpy as np\n",
    "import pandas as pd\n",
    "import seaborn as sns\n",
    "import matplotlib.pyplot as plt\n",
    "\n",
    "class HyperLogLog:\n",
    "    def __init__(self, bitanzahl=10):\n",
    "        # Anzahl der Buckets (Speicherplätze) initialisieren\n",
    "        self.anzahl_buckets = 2 ** bitanzahl\n",
    "        self.buckets = [0] * self.anzahl_buckets\n",
    "        self.bitanzahl = bitanzahl\n",
    "\n",
    "    def _hash_wert_berechnen(self, wert):\n",
    "        # Berechnet den Hash-Wert eines gegebenen Wertes\n",
    "        return int(hashlib.sha256(wert.encode('utf-8')).hexdigest(), 16)\n",
    "\n",
    "    def _bucket_bestimmen(self, hash_wert):\n",
    "        # Bestimmt den zugehörigen Bucket für einen gegebenen Hash-Wert\n",
    "        return hash_wert & (self.anzahl_buckets - 1)\n",
    "\n",
    "    def _anzahl_fuehrende_nullen(self, hash_wert):\n",
    "        # Zählt die Anzahl der führenden Nullen im Hash-Wert\n",
    "        hash_wert >>= self.bitanzahl\n",
    "        position_erstes_eins = 1\n",
    "        while hash_wert & 1 == 0 and position_erstes_eins <= 64:\n",
    "            position_erstes_eins += 1\n",
    "            hash_wert >>= 1\n",
    "        return position_erstes_eins\n",
    "\n",
    "    def wert_hinzufuegen(self, wert):\n",
    "        # Fügt einen neuen Wert zum HyperLogLog hinzu\n",
    "        hash_wert = self._hash_wert_berechnen(wert)\n",
    "        bucket = self._bucket_bestimmen(hash_wert)\n",
    "        self.buckets[bucket] = max(self.buckets[bucket], self._anzahl_fuehrende_nullen(hash_wert))\n",
    "\n",
    "    def geschaetzte_anzahl_berechnen(self):\n",
    "        # Berechnet die geschätzte Anzahl einzigartiger Elemente\n",
    "        summe = sum([2 ** -x for x in self.buckets])\n",
    "        E = self.anzahl_buckets ** 2 / summe * 0.7213 / (1 + 1.079 / self.anzahl_buckets)\n",
    "        return round(E)\n",
    "\n",
    "# 1 Million zufällige Zeichenketten generieren\n",
    "anzahl_zeichenketten = 1000000\n",
    "zufaellige_zeichenketten = {''.join(random.choices(string.ascii_letters + string.digits, k=16)) for _ in range(anzahl_zeichenketten)}\n",
    "\n",
    "# HyperLogLog initialisieren und Zeichenketten hinzufügen\n",
    "hyperloglog = HyperLogLog()\n",
    "for zeichenkette in zufaellige_zeichenketten:\n",
    "    hyperloglog.wert_hinzufuegen(zeichenkette)\n",
    "\n",
    "# Geschätzte Anzahl berechnen\n",
    "geschaetzte_anzahl = hyperloglog.geschaetzte_anzahl_berechnen()\n",
    "\n",
    "# Buckets für Seaborn-Visualisierung in DataFrame umwandeln\n",
    "bucket_daten = pd.DataFrame(hyperloglog.buckets, columns=['bucket_werte'])\n",
    "\n",
    "# Boxplot der Bucket-Werte mit Seaborn erstellen\n",
    "sns.set_style(\"whitegrid\")\n",
    "sns.boxplot(data=bucket_daten, y='bucket_werte', orient='v')\n",
    "plt.title('Boxplot der Bucket-Werte')\n",
    "plt.show()\n",
    "\n",
    "# Tatsächliche Anzahl berechnen\n",
    "tatsaechliche_anzahl = len(zufaellige_zeichenketten)\n",
    "\n",
    "# Fehler in Prozent berechnen\n",
    "fehler_prozent = abs(geschaetzte_anzahl - tatsaechliche_anzahl) / tatsaechliche_anzahl * 100\n",
    "\n",
    "# Ergebnisse ausgeben\n",
    "print(f\"Geschätzte Anzahl: {geschaetzte_anzahl}\")\n",
    "print(f\"Tatsächliche Anzahl: {tatsaechliche_anzahl}\")\n",
    "print(f\"Fehler in Prozent: {fehler_prozent}%\")\n"
   ]
  }
 ],
 "metadata": {
  "kernelspec": {
   "display_name": "AI",
   "language": "python",
   "name": "python3"
  },
  "language_info": {
   "codemirror_mode": {
    "name": "ipython",
    "version": 3
   },
   "file_extension": ".py",
   "mimetype": "text/x-python",
   "name": "python",
   "nbconvert_exporter": "python",
   "pygments_lexer": "ipython3",
   "version": "3.11.5"
  },
  "orig_nbformat": 4
 },
 "nbformat": 4,
 "nbformat_minor": 2
}
