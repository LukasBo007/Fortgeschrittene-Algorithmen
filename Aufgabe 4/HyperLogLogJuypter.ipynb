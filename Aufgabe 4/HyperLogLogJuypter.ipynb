{
 "cells": [
  {
   "cell_type": "code",
   "execution_count": 4,
   "metadata": {},
   "outputs": [
    {
     "name": "stderr",
     "output_type": "stream",
     "text": [
      "/Users/furkan/miniconda3/envs/AI/lib/python3.11/site-packages/seaborn/_oldcore.py:1498: FutureWarning: is_categorical_dtype is deprecated and will be removed in a future version. Use isinstance(dtype, CategoricalDtype) instead\n",
      "  if pd.api.types.is_categorical_dtype(vector):\n"
     ]
    },
    {
     "data": {
      "image/png": "[encoded data removed]",
      "text/plain": [
       "<Figure size 640x480 with 1 Axes>"
      ]
     },
     "metadata": {},
     "output_type": "display_data"
    },
    {
     "name": "stdout",
     "output_type": "stream",
     "text": [
      "Estimated Count: 1024549\n",
      "Actual Count: 1000000\n",
      "Error: 2.4549000000000003%\n"
     ]
    }
   ],
   "source": [
    "import hashlib\n",
    "import random\n",
    "import string\n",
    "import numpy as np\n",
    "import pandas as pd\n",
    "import seaborn as sns\n",
    "import matplotlib.pyplot as plt\n",
    "\n",
    "class HyperLogLog:\n",
    "    def __init__(self, b=10):\n",
    "        self.m = 2**b\n",
    "        self.buckets = [0] * self.m\n",
    "        self.b = b\n",
    "\n",
    "    def _hash(self, value):\n",
    "        return int(hashlib.sha256(value.encode('utf-8')).hexdigest(), 16)\n",
    "\n",
    "    def _get_bucket(self, hash_value):\n",
    "        return hash_value & (self.m - 1)\n",
    "\n",
    "    def _rho(self, hash_value):\n",
    "        hash_value >>= self.b\n",
    "        rho = 1\n",
    "        while hash_value & 1 == 0 and rho <= 64:\n",
    "            rho += 1\n",
    "            hash_value >>= 1\n",
    "        return rho\n",
    "\n",
    "    def add(self, value):\n",
    "        hash_value = self._hash(value)\n",
    "        bucket = self._get_bucket(hash_value)\n",
    "        self.buckets[bucket] = max(self.buckets[bucket], self._rho(hash_value))\n",
    "\n",
    "    def count(self):\n",
    "        # Calculate E\n",
    "        Z = sum([2**-x for x in self.buckets])\n",
    "        E = self.m**2 / Z * 0.7213 / (1 + 1.079 / self.m)\n",
    "        return round(E)\n",
    "\n",
    "# Generate 1 million random strings\n",
    "num_strings = 1000000\n",
    "random_strings = {''.join(random.choices(string.ascii_letters + string.digits, k=16)) for _ in range(num_strings)}\n",
    "\n",
    "# Initialize HyperLogLog and add strings\n",
    "hll = HyperLogLog()\n",
    "for s in random_strings:\n",
    "    hll.add(s)\n",
    "\n",
    "# Estimate the count\n",
    "estimated_count = hll.count()\n",
    "\n",
    "# Convert buckets to DataFrame for Seaborn visualization\n",
    "bucket_data = pd.DataFrame(hll.buckets, columns=['bucket_values'])\n",
    "\n",
    "# Seaborn Boxplot - vertikale Darstellung\n",
    "sns.set_style(\"whitegrid\")\n",
    "sns.boxplot(data=bucket_data, y='bucket_values', orient='v')\n",
    "plt.title('Boxplot of Buckets')\n",
    "plt.show()\n",
    "\n",
    "# Calculate actual count\n",
    "actual_count = len(random_strings)\n",
    "\n",
    "# Calculate error in percentage\n",
    "error = abs(estimated_count - actual_count) / actual_count * 100\n",
    "\n",
    "# Outputting the results\n",
    "print(f\"Estimated Count: {estimated_count}\")\n",
    "print(f\"Actual Count: {actual_count}\")\n",
    "print(f\"Error: {error}%\")\n"
   ]
  }
 ],
 "metadata": {
  "kernelspec": {
   "display_name": "AI",
   "language": "python",
   "name": "python3"
  },
  "language_info": {
   "codemirror_mode": {
    "name": "ipython",
    "version": 3
   },
   "file_extension": ".py",
   "mimetype": "text/x-python",
   "name": "python",
   "nbconvert_exporter": "python",
   "pygments_lexer": "ipython3",
   "version": "3.11.5"
  },
  "orig_nbformat": 4
 },
 "nbformat": 4,
 "nbformat_minor": 2
}
