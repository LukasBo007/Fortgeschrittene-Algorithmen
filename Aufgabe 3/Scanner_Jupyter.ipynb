{
 "cells": [
  {
   "attachments": {},
   "cell_type": "markdown",
   "metadata": {},
   "source": [
    "# Plagiat Checker Gruppe A #"
   ]
  },
  {
   "cell_type": "code",
   "execution_count": 20,
   "metadata": {},
   "outputs": [
    {
     "name": "stdout",
     "output_type": "stream",
     "text": [
      "Es wurden keine Plagiate gefunden \n"
     ]
    }
   ],
   "source": [
    "#Importe\n",
    "import re  #Importiert das re Modul für reguläre Ausdrücke\n",
    "import hashlib  \n",
    "import numpy as np  \n",
    "\n",
    "#Anpassung der Datei\n",
    "def textanpassung(text):\n",
    "    #Ersetzt Sonderzeichen durch \"nichts\" und konvertiert den Text in Kleinbuchstaben\n",
    "    text = re.sub(r'[^\\w\\s]', '', text).lower()\n",
    "    return text\n",
    "\n",
    "#Erstellung von Shingles der Länge k\n",
    "def shinglesErstellen(text, k=3):\n",
    "    woerter = text.split()  # Zerlegt den Text in Wörter\n",
    "    for i in range(len(woerter) - k + 1):\n",
    "        yield ' '.join(woerter[i:i + k])\n",
    "\n",
    "#Hashing mit der Minhash Methode\n",
    "def minhash(shingles, permutationen=256):\n",
    "    signaturen = np.full(permutationen, float('inf'))\n",
    "    #Erstellung der Signaturen\n",
    "    for shingle in shingles:\n",
    "        for i in range(permutationen):\n",
    "            #Hashing mit SHA256 aus hashlib library\n",
    "            hashWert = int(hashlib.sha256(f'{shingle}{i}'.encode()).hexdigest(), 16) % (2**32 - 1) \n",
    "            #Speichert den kleinsten Hash-Wert für jede Permutation.\n",
    "            signaturen[i] = min(signaturen[i], hashWert)\n",
    "    return signaturen\n",
    "\n",
    "#Definition der Jaccard Similarity\n",
    "def jaccardSimilarity(set1, set2):\n",
    "    #Vereinigungsmenge der Hash-Werte im Verhältnis zum Vocabulary\n",
    "    return np.sum(set1 == set2) / len(set1)\n",
    "\n",
    "#Aufruf der Datei\n",
    "file_path = '/Users/furkan/Fortgeschrittene-Algorithmen-1/Aufgabe 3/articles_test.txt' \n",
    "artikelMinhashed = {}  #Für Speicherung der MinHash-Signaturen der Artikel.\n",
    "#Öffnen und Enconding der Datei\n",
    "with open(file_path, 'r', encoding='utf-8') as file:\n",
    "    daten = file.readlines()\n",
    "\n",
    "#Anpassung der Datei.\n",
    "for zeilen in daten:\n",
    "    artikel = zeilen.split(' ', 1)  #Trennt die Artikel-ID vom Text.\n",
    "    if len(artikel) == 2:\n",
    "        artikel_id, artikel_text = artikel[0], artikel[1]\n",
    "        textAngepasst = textanpassung(artikel_text)\n",
    "        shingles = set(shinglesErstellen(textAngepasst))\n",
    "        minhashSignatur = minhash(shingles)\n",
    "        artikelMinhashed[artikel_id] = minhashSignatur\n",
    "\n",
    "#Suche nach ähnlichen Artikel-Paaren und berechne die Jaccard-Ähnlichkeit\n",
    "plagiatKandidaten = []  # Liste zur Speicherung von Plagiat-Kandidaten\n",
    "artikel_ID = list(artikelMinhashed.keys())  # Liste der Artikel-IDs\n",
    "\n",
    "#Durchläuft jedes mögliche Paar von Artikeln\n",
    "plagiate_gefunden = False\n",
    "for i in range(len(artikel_ID)):\n",
    "    for j in range(i + 1, len(artikel_ID)):\n",
    "        id1, id2 = artikel_ID[i], artikel_ID[j]\n",
    "        # erechnet die Jaccard-Ähnlichkeit der MinHash-Signaturen\n",
    "        similarity = jaccardSimilarity(artikelMinhashed[id1], artikelMinhashed[id2])\n",
    "        if similarity > 0.8:  # Überprüft, ob die Ähnlichkeit über dem Schwellenwert von 0.8 (80%) liegt. \n",
    "            #Fügt das Paar und seine Ähnlichkeit zur Liste hinzu\n",
    "            plagiatKandidaten.append((id1, id2, similarity))\n",
    "            plagiate_gefunden = True\n",
    "\n",
    "#Ausgabe der Ergebnisse\n",
    "if plagiate_gefunden:\n",
    "    for paare in plagiatKandidaten:\n",
    "        print(f\"Artikel {paare[0]} und {paare[1]} ähneln sich mit einer Ähnlichkeit von {paare[2]*100:.2f}%.\")\n",
    "\n",
    "    print(\"Anzahl der Plagiate:\",len(plagiatKandidaten))\n",
    "else:\n",
    "    print(\"Es wurden keine Plagiate gefunden\")\n",
    "\n",
    "\n",
    "\n"
   ]
  },
  {
   "attachments": {},
   "cell_type": "markdown",
   "metadata": {},
   "source": [
    "# Quellen # \n",
    "- Reguläre Ausdrücke(Suche) https://cheatography.com/davechild/cheat-sheets/regular-expressions/\n",
    "- Modul Script\n",
    "- https://docs.python.org/3/library/hashlib.html für Algorithmus SHA256\n",
    "- https://en.wikipedia.org/wiki/MinHash\n",
    "- https://de.wikipedia.org/wiki/Jaccard-Koeffizient\n",
    "- https://www.codemotion.com/magazine/backend/fast-document-similarity-in-python-minhashlsh/"
   ]
  }
 ],
 "metadata": {
  "kernelspec": {
   "display_name": "AI",
   "language": "python",
   "name": "python3"
  },
  "language_info": {
   "codemirror_mode": {
    "name": "ipython",
    "version": 3
   },
   "file_extension": ".py",
   "mimetype": "text/x-python",
   "name": "python",
   "nbconvert_exporter": "python",
   "pygments_lexer": "ipython3",
   "version": "3.11.5"
  },
  "orig_nbformat": 4
 },
 "nbformat": 4,
 "nbformat_minor": 2
}
