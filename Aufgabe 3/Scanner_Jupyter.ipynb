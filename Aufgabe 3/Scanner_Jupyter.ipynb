{
 "cells": [
  {
   "cell_type": "code",
   "execution_count": 20,
   "metadata": {},
   "outputs": [
    {
     "name": "stdout",
     "output_type": "stream",
     "text": [
      "Artikel t980 und t2023 könnten ähnlich sein mit einer Ähnlichkeit von 97.66%.\n",
      "Artikel t1088 und t5015 könnten ähnlich sein mit einer Ähnlichkeit von 97.66%.\n",
      "Artikel t1297 und t4638 könnten ähnlich sein mit einer Ähnlichkeit von 98.44%.\n",
      "Artikel t1768 und t5248 könnten ähnlich sein mit einer Ähnlichkeit von 96.09%.\n",
      "Artikel t1952 und t3495 könnten ähnlich sein mit einer Ähnlichkeit von 98.44%.\n",
      "Artikel t2023 und t980 könnten ähnlich sein mit einer Ähnlichkeit von 97.66%.\n",
      "Artikel t2535 und t8642 könnten ähnlich sein mit einer Ähnlichkeit von 97.66%.\n",
      "Artikel t2839 und t9303 könnten ähnlich sein mit einer Ähnlichkeit von 99.22%.\n",
      "Artikel t2957 und t7111 könnten ähnlich sein mit einer Ähnlichkeit von 99.22%.\n",
      "Artikel t3268 und t7998 könnten ähnlich sein mit einer Ähnlichkeit von 98.44%.\n",
      "Artikel t3466 und t7563 könnten ähnlich sein mit einer Ähnlichkeit von 96.88%.\n",
      "Artikel t3495 und t1952 könnten ähnlich sein mit einer Ähnlichkeit von 98.44%.\n",
      "Artikel t4638 und t1297 könnten ähnlich sein mit einer Ähnlichkeit von 98.44%.\n",
      "Artikel t5015 und t1088 könnten ähnlich sein mit einer Ähnlichkeit von 97.66%.\n",
      "Artikel t5248 und t1768 könnten ähnlich sein mit einer Ähnlichkeit von 96.09%.\n",
      "Artikel t7111 und t2957 könnten ähnlich sein mit einer Ähnlichkeit von 99.22%.\n",
      "Artikel t7563 und t3466 könnten ähnlich sein mit einer Ähnlichkeit von 96.88%.\n",
      "Artikel t7998 und t3268 könnten ähnlich sein mit einer Ähnlichkeit von 98.44%.\n",
      "Artikel t8642 und t2535 könnten ähnlich sein mit einer Ähnlichkeit von 97.66%.\n",
      "Artikel t9303 und t2839 könnten ähnlich sein mit einer Ähnlichkeit von 99.22%.\n"
     ]
    }
   ],
   "source": [
    "import re\n",
    "from datasketch import MinHash, MinHashLSH\n",
    "\n",
    "def preprocess_text(text):\n",
    "    \"\"\" Entfernt Sonderzeichen und führt eine einfache Textbereinigung durch. \"\"\"\n",
    "    text = re.sub(r'[^\\w\\s]', '', text).lower()\n",
    "    return text\n",
    "\n",
    "def create_shingles(text, k=2):\n",
    "    \"\"\" Erstellt Shingles (n-Gramme) der Länge k aus dem Text. \"\"\"\n",
    "    words = text.split()\n",
    "    for i in range(len(words) - k + 1):\n",
    "        yield ' '.join(words[i:i + k])\n",
    "\n",
    "# Lese die Datei und erstelle MinHash für jeden Artikel\n",
    "file_path = '/Users/furkan/Downloads/articles-2.txt'\n",
    "lsh = MinHashLSH(threshold=0.5, num_perm=328)  # Threshold und Anzahl der Permutationen\n",
    "articles_minhash = {}\n",
    "\n",
    "with open(file_path, 'r', encoding='utf-8') as file:\n",
    "    content = file.readlines()\n",
    "\n",
    "for line in content:\n",
    "    parts = line.split(' ', 1)\n",
    "    if len(parts) == 2:\n",
    "        article_id, article_text = parts[0], parts[1]\n",
    "        processed_text = preprocess_text(article_text)\n",
    "        m = MinHash(num_perm=328)\n",
    "        for shingle in create_shingles(processed_text):\n",
    "            m.update(shingle.encode('utf-8'))\n",
    "        lsh.insert(article_id, m)\n",
    "        articles_minhash[article_id] = m\n",
    "\n",
    "# Suche nach ähnlichen Artikel-Paaren und berechne die Jaccard-Ähnlichkeit\n",
    "plagiarism_candidates = []\n",
    "for article_id in articles_minhash:\n",
    "    result = lsh.query(articles_minhash[article_id])\n",
    "    for similar_id in result:\n",
    "        if similar_id != article_id:\n",
    "            similarity = articles_minhash[article_id].jaccard(articles_minhash[similar_id])\n",
    "            plagiarism_candidates.append((article_id, similar_id, similarity))\n",
    "\n",
    "# Ergebnisse ausgeben\n",
    "for pair in plagiarism_candidates:\n",
    "    print(f\"Artikel {pair[0]} und {pair[1]} könnten ähnlich sein mit einer Ähnlichkeit von {pair[2]*100:.2f}%.\")\n"
   ]
  }
 ],
 "metadata": {
  "kernelspec": {
   "display_name": "AI",
   "language": "python",
   "name": "python3"
  },
  "language_info": {
   "codemirror_mode": {
    "name": "ipython",
    "version": 3
   },
   "file_extension": ".py",
   "mimetype": "text/x-python",
   "name": "python",
   "nbconvert_exporter": "python",
   "pygments_lexer": "ipython3",
   "version": "3.11.5"
  },
  "orig_nbformat": 4
 },
 "nbformat": 4,
 "nbformat_minor": 2
}
