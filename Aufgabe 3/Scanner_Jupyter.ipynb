{
 "cells": [
  {
   "cell_type": "code",
   "execution_count": 10,
   "metadata": {},
   "outputs": [
    {
     "name": "stdout",
     "output_type": "stream",
     "text": [
      "Artikel t980 und t2023 ähneln sich mit einer Ähnlichkeit von 99.22%.\n",
      "Artikel t1088 und t5015 ähneln sich mit einer Ähnlichkeit von 97.66%.\n",
      "Artikel t1297 und t4638 ähneln sich mit einer Ähnlichkeit von 98.44%.\n",
      "Artikel t1768 und t5248 ähneln sich mit einer Ähnlichkeit von 98.44%.\n",
      "Artikel t1952 und t3495 ähneln sich mit einer Ähnlichkeit von 97.66%.\n",
      "Artikel t2535 und t8642 ähneln sich mit einer Ähnlichkeit von 97.66%.\n",
      "Artikel t2839 und t9303 ähneln sich mit einer Ähnlichkeit von 98.44%.\n",
      "Artikel t2957 und t7111 ähneln sich mit einer Ähnlichkeit von 95.31%.\n",
      "Artikel t3268 und t7998 ähneln sich mit einer Ähnlichkeit von 98.44%.\n",
      "Artikel t3466 und t7563 ähneln sich mit einer Ähnlichkeit von 97.66%.\n"
     ]
    }
   ],
   "source": [
    "import re\n",
    "import hashlib\n",
    "import numpy as np\n",
    "\n",
    "def preprocess_text(text):\n",
    "    \"\"\" Entfernt Sonderzeichen und führt eine einfache Textbereinigung durch. \"\"\"\n",
    "    text = re.sub(r'[^\\w\\s]', '', text).lower()\n",
    "    return text\n",
    "\n",
    "def create_shingles(text, k=3):\n",
    "    \"\"\" Erstellt Shingles (n-Gramme) der Länge k aus dem Text. \"\"\"\n",
    "    words = text.split()\n",
    "    for i in range(len(words) - k + 1):\n",
    "        yield ' '.join(words[i:i + k])\n",
    "\n",
    "def minhash(shingles, num_perm=128):\n",
    "    \"\"\" Erstellt eine MinHash-Signatur für ein Set von Shingles. \"\"\"\n",
    "    signatures = np.full(num_perm, float('inf'))\n",
    "    for shingle in shingles:\n",
    "        for i in range(num_perm):\n",
    "            hash_val = int(hashlib.sha256(f'{shingle}{i}'.encode()).hexdigest(), 16) % (2**32 - 1)\n",
    "            signatures[i] = min(signatures[i], hash_val)\n",
    "    return signatures\n",
    "\n",
    "def jaccard_similarity(set1, set2):\n",
    "    \"\"\" Berechnet die Jaccard-Ähnlichkeit zwischen zwei MinHash-Signaturen. \"\"\"\n",
    "    return np.sum(set1 == set2) / len(set1)\n",
    "\n",
    "# Lese die Datei und erstelle MinHash für jeden Artikel\n",
    "file_path = '/Users/furkan/Downloads/articles-2.txt'\n",
    "articles_minhash = {}\n",
    "\n",
    "with open(file_path, 'r', encoding='utf-8') as file:\n",
    "    content = file.readlines()\n",
    "\n",
    "for line in content:\n",
    "    parts = line.split(' ', 1)\n",
    "    if len(parts) == 2:\n",
    "        article_id, article_text = parts[0], parts[1]\n",
    "        processed_text = preprocess_text(article_text)\n",
    "        shingles = set(create_shingles(processed_text))\n",
    "        minhash_signature = minhash(shingles)\n",
    "        articles_minhash[article_id] = minhash_signature\n",
    "\n",
    "# Suche nach ähnlichen Artikel-Paaren und berechne die Jaccard-Ähnlichkeit\n",
    "plagiarism_candidates = []\n",
    "article_ids = list(articles_minhash.keys())\n",
    "\n",
    "for i in range(len(article_ids)):\n",
    "    for j in range(i + 1, len(article_ids)):\n",
    "        id1, id2 = article_ids[i], article_ids[j]\n",
    "        similarity = jaccard_similarity(articles_minhash[id1], articles_minhash[id2])\n",
    "        if similarity > 0.5:  # Schwellenwert für die Ähnlichkeit\n",
    "            plagiarism_candidates.append((id1, id2, similarity))\n",
    "\n",
    "# Ergebnisse ausgeben\n",
    "for pair in plagiarism_candidates:\n",
    "    print(f\"Artikel {pair[0]} und {pair[1]} ähneln sich mit einer Ähnlichkeit von {pair[2]*100:.2f}%.\")\n"
   ]
  }
 ],
 "metadata": {
  "kernelspec": {
   "display_name": "AI",
   "language": "python",
   "name": "python3"
  },
  "language_info": {
   "codemirror_mode": {
    "name": "ipython",
    "version": 3
   },
   "file_extension": ".py",
   "mimetype": "text/x-python",
   "name": "python",
   "nbconvert_exporter": "python",
   "pygments_lexer": "ipython3",
   "version": "3.11.5"
  },
  "orig_nbformat": 4
 },
 "nbformat": 4,
 "nbformat_minor": 2
}
